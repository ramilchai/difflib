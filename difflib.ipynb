{
 "cells": [
  {
   "cell_type": "code",
   "execution_count": 2,
   "metadata": {},
   "outputs": [],
   "source": [
    "import pandas as pd\n",
    "import numpy as np"
   ]
  },
  {
   "cell_type": "code",
   "execution_count": 8,
   "metadata": {
    "scrolled": true
   },
   "outputs": [
    {
     "data": {
      "text/html": [
       "<div>\n",
       "<style scoped>\n",
       "    .dataframe tbody tr th:only-of-type {\n",
       "        vertical-align: middle;\n",
       "    }\n",
       "\n",
       "    .dataframe tbody tr th {\n",
       "        vertical-align: top;\n",
       "    }\n",
       "\n",
       "    .dataframe thead th {\n",
       "        text-align: right;\n",
       "    }\n",
       "</style>\n",
       "<table border=\"1\" class=\"dataframe\">\n",
       "  <thead>\n",
       "    <tr style=\"text-align: right;\">\n",
       "      <th></th>\n",
       "      <th>title</th>\n",
       "      <th>studio</th>\n",
       "      <th>domestic_gross</th>\n",
       "      <th>foreign_gross</th>\n",
       "      <th>year</th>\n",
       "    </tr>\n",
       "  </thead>\n",
       "  <tbody>\n",
       "    <tr>\n",
       "      <th>0</th>\n",
       "      <td>Toy Story 3</td>\n",
       "      <td>BV</td>\n",
       "      <td>415000000.0</td>\n",
       "      <td>652000000</td>\n",
       "      <td>2010</td>\n",
       "    </tr>\n",
       "    <tr>\n",
       "      <th>1</th>\n",
       "      <td>Alice in Wonderland (2010)</td>\n",
       "      <td>BV</td>\n",
       "      <td>334200000.0</td>\n",
       "      <td>691300000</td>\n",
       "      <td>2010</td>\n",
       "    </tr>\n",
       "    <tr>\n",
       "      <th>2</th>\n",
       "      <td>Harry Potter and the Deathly Hallows Part 1</td>\n",
       "      <td>WB</td>\n",
       "      <td>296000000.0</td>\n",
       "      <td>664300000</td>\n",
       "      <td>2010</td>\n",
       "    </tr>\n",
       "  </tbody>\n",
       "</table>\n",
       "</div>"
      ],
      "text/plain": [
       "                                         title studio  domestic_gross  \\\n",
       "0                                  Toy Story 3     BV     415000000.0   \n",
       "1                   Alice in Wonderland (2010)     BV     334200000.0   \n",
       "2  Harry Potter and the Deathly Hallows Part 1     WB     296000000.0   \n",
       "\n",
       "  foreign_gross  year  \n",
       "0     652000000  2010  \n",
       "1     691300000  2010  \n",
       "2     664300000  2010  "
      ]
     },
     "execution_count": 8,
     "metadata": {},
     "output_type": "execute_result"
    }
   ],
   "source": [
    "gross = pd.read_csv('data/bom.movie_gross.csv.gz', compression='gzip', error_bad_lines=False)\n",
    "\n",
    "gross.head(3)"
   ]
  },
  {
   "cell_type": "code",
   "execution_count": 9,
   "metadata": {},
   "outputs": [
    {
     "data": {
      "text/html": [
       "<div>\n",
       "<style scoped>\n",
       "    .dataframe tbody tr th:only-of-type {\n",
       "        vertical-align: middle;\n",
       "    }\n",
       "\n",
       "    .dataframe tbody tr th {\n",
       "        vertical-align: top;\n",
       "    }\n",
       "\n",
       "    .dataframe thead th {\n",
       "        text-align: right;\n",
       "    }\n",
       "</style>\n",
       "<table border=\"1\" class=\"dataframe\">\n",
       "  <thead>\n",
       "    <tr style=\"text-align: right;\">\n",
       "      <th></th>\n",
       "      <th>tconst</th>\n",
       "      <th>primary_title</th>\n",
       "      <th>original_title</th>\n",
       "      <th>start_year</th>\n",
       "      <th>runtime_minutes</th>\n",
       "      <th>genres</th>\n",
       "    </tr>\n",
       "  </thead>\n",
       "  <tbody>\n",
       "    <tr>\n",
       "      <th>0</th>\n",
       "      <td>tt0063540</td>\n",
       "      <td>Sunghursh</td>\n",
       "      <td>Sunghursh</td>\n",
       "      <td>2013</td>\n",
       "      <td>175.0</td>\n",
       "      <td>Action,Crime,Drama</td>\n",
       "    </tr>\n",
       "    <tr>\n",
       "      <th>1</th>\n",
       "      <td>tt0066787</td>\n",
       "      <td>One Day Before the Rainy Season</td>\n",
       "      <td>Ashad Ka Ek Din</td>\n",
       "      <td>2019</td>\n",
       "      <td>114.0</td>\n",
       "      <td>Biography,Drama</td>\n",
       "    </tr>\n",
       "    <tr>\n",
       "      <th>2</th>\n",
       "      <td>tt0069049</td>\n",
       "      <td>The Other Side of the Wind</td>\n",
       "      <td>The Other Side of the Wind</td>\n",
       "      <td>2018</td>\n",
       "      <td>122.0</td>\n",
       "      <td>Drama</td>\n",
       "    </tr>\n",
       "  </tbody>\n",
       "</table>\n",
       "</div>"
      ],
      "text/plain": [
       "      tconst                    primary_title              original_title  \\\n",
       "0  tt0063540                        Sunghursh                   Sunghursh   \n",
       "1  tt0066787  One Day Before the Rainy Season             Ashad Ka Ek Din   \n",
       "2  tt0069049       The Other Side of the Wind  The Other Side of the Wind   \n",
       "\n",
       "   start_year  runtime_minutes              genres  \n",
       "0        2013            175.0  Action,Crime,Drama  \n",
       "1        2019            114.0     Biography,Drama  \n",
       "2        2018            122.0               Drama  "
      ]
     },
     "execution_count": 9,
     "metadata": {},
     "output_type": "execute_result"
    }
   ],
   "source": [
    "basics = pd.read_csv('data/imdb.title.basics.csv.gz', compression='gzip', error_bad_lines=False)\n",
    "\n",
    "basics.head(3)"
   ]
  },
  {
   "cell_type": "code",
   "execution_count": 17,
   "metadata": {},
   "outputs": [],
   "source": [
    "gross['foreign_gross'] = pd.to_numeric(gross['foreign_gross'],errors='coerce')\n",
    "gross['total_gross'] = gross['domestic_gross'] + gross['foreign_gross']\n",
    "\n",
    "top_100 = gross.sort_values('total_gross', ascending=False)[:100][['title', 'total_gross']]"
   ]
  },
  {
   "cell_type": "code",
   "execution_count": 19,
   "metadata": {},
   "outputs": [
    {
     "data": {
      "text/html": [
       "<div>\n",
       "<style scoped>\n",
       "    .dataframe tbody tr th:only-of-type {\n",
       "        vertical-align: middle;\n",
       "    }\n",
       "\n",
       "    .dataframe tbody tr th {\n",
       "        vertical-align: top;\n",
       "    }\n",
       "\n",
       "    .dataframe thead th {\n",
       "        text-align: right;\n",
       "    }\n",
       "</style>\n",
       "<table border=\"1\" class=\"dataframe\">\n",
       "  <thead>\n",
       "    <tr style=\"text-align: right;\">\n",
       "      <th></th>\n",
       "      <th>title</th>\n",
       "      <th>total_gross</th>\n",
       "    </tr>\n",
       "  </thead>\n",
       "  <tbody>\n",
       "    <tr>\n",
       "      <th>727</th>\n",
       "      <td>Marvel's The Avengers</td>\n",
       "      <td>1.518900e+09</td>\n",
       "    </tr>\n",
       "    <tr>\n",
       "      <th>1875</th>\n",
       "      <td>Avengers: Age of Ultron</td>\n",
       "      <td>1.405400e+09</td>\n",
       "    </tr>\n",
       "    <tr>\n",
       "      <th>3080</th>\n",
       "      <td>Black Panther</td>\n",
       "      <td>1.347000e+09</td>\n",
       "    </tr>\n",
       "    <tr>\n",
       "      <th>328</th>\n",
       "      <td>Harry Potter and the Deathly Hallows Part 2</td>\n",
       "      <td>1.341500e+09</td>\n",
       "    </tr>\n",
       "    <tr>\n",
       "      <th>2758</th>\n",
       "      <td>Star Wars: The Last Jedi</td>\n",
       "      <td>1.332600e+09</td>\n",
       "    </tr>\n",
       "    <tr>\n",
       "      <th>3081</th>\n",
       "      <td>Jurassic World: Fallen Kingdom</td>\n",
       "      <td>1.309500e+09</td>\n",
       "    </tr>\n",
       "    <tr>\n",
       "      <th>1127</th>\n",
       "      <td>Frozen</td>\n",
       "      <td>1.276400e+09</td>\n",
       "    </tr>\n",
       "    <tr>\n",
       "      <th>2759</th>\n",
       "      <td>Beauty and the Beast (2017)</td>\n",
       "      <td>1.263500e+09</td>\n",
       "    </tr>\n",
       "    <tr>\n",
       "      <th>3082</th>\n",
       "      <td>Incredibles 2</td>\n",
       "      <td>1.242800e+09</td>\n",
       "    </tr>\n",
       "    <tr>\n",
       "      <th>1128</th>\n",
       "      <td>Iron Man 3</td>\n",
       "      <td>1.214800e+09</td>\n",
       "    </tr>\n",
       "  </tbody>\n",
       "</table>\n",
       "</div>"
      ],
      "text/plain": [
       "                                            title   total_gross\n",
       "727                         Marvel's The Avengers  1.518900e+09\n",
       "1875                      Avengers: Age of Ultron  1.405400e+09\n",
       "3080                                Black Panther  1.347000e+09\n",
       "328   Harry Potter and the Deathly Hallows Part 2  1.341500e+09\n",
       "2758                     Star Wars: The Last Jedi  1.332600e+09\n",
       "3081               Jurassic World: Fallen Kingdom  1.309500e+09\n",
       "1127                                       Frozen  1.276400e+09\n",
       "2759                  Beauty and the Beast (2017)  1.263500e+09\n",
       "3082                                Incredibles 2  1.242800e+09\n",
       "1128                                   Iron Man 3  1.214800e+09"
      ]
     },
     "execution_count": 19,
     "metadata": {},
     "output_type": "execute_result"
    }
   ],
   "source": [
    "top_100.head(10)"
   ]
  },
  {
   "cell_type": "code",
   "execution_count": 24,
   "metadata": {},
   "outputs": [],
   "source": [
    "top_100_w_genres = top_100.join(basics.set_index('primary_title'), how='left', on='title' )[['title', 'total_gross', 'genres']]\n",
    "top_100_w_genres = top_100_w_genres[top_100_w_genres['title'].duplicated() == False]"
   ]
  },
  {
   "cell_type": "code",
   "execution_count": 25,
   "metadata": {
    "scrolled": true
   },
   "outputs": [
    {
     "data": {
      "text/html": [
       "<div>\n",
       "<style scoped>\n",
       "    .dataframe tbody tr th:only-of-type {\n",
       "        vertical-align: middle;\n",
       "    }\n",
       "\n",
       "    .dataframe tbody tr th {\n",
       "        vertical-align: top;\n",
       "    }\n",
       "\n",
       "    .dataframe thead th {\n",
       "        text-align: right;\n",
       "    }\n",
       "</style>\n",
       "<table border=\"1\" class=\"dataframe\">\n",
       "  <thead>\n",
       "    <tr style=\"text-align: right;\">\n",
       "      <th></th>\n",
       "      <th>title</th>\n",
       "      <th>total_gross</th>\n",
       "      <th>genres</th>\n",
       "    </tr>\n",
       "  </thead>\n",
       "  <tbody>\n",
       "    <tr>\n",
       "      <th>727</th>\n",
       "      <td>Marvel's The Avengers</td>\n",
       "      <td>1.518900e+09</td>\n",
       "      <td>NaN</td>\n",
       "    </tr>\n",
       "    <tr>\n",
       "      <th>1875</th>\n",
       "      <td>Avengers: Age of Ultron</td>\n",
       "      <td>1.405400e+09</td>\n",
       "      <td>Action,Adventure,Sci-Fi</td>\n",
       "    </tr>\n",
       "    <tr>\n",
       "      <th>3080</th>\n",
       "      <td>Black Panther</td>\n",
       "      <td>1.347000e+09</td>\n",
       "      <td>Action,Adventure,Sci-Fi</td>\n",
       "    </tr>\n",
       "    <tr>\n",
       "      <th>328</th>\n",
       "      <td>Harry Potter and the Deathly Hallows Part 2</td>\n",
       "      <td>1.341500e+09</td>\n",
       "      <td>NaN</td>\n",
       "    </tr>\n",
       "    <tr>\n",
       "      <th>2758</th>\n",
       "      <td>Star Wars: The Last Jedi</td>\n",
       "      <td>1.332600e+09</td>\n",
       "      <td>Action,Adventure,Fantasy</td>\n",
       "    </tr>\n",
       "    <tr>\n",
       "      <th>3081</th>\n",
       "      <td>Jurassic World: Fallen Kingdom</td>\n",
       "      <td>1.309500e+09</td>\n",
       "      <td>Action,Adventure,Sci-Fi</td>\n",
       "    </tr>\n",
       "    <tr>\n",
       "      <th>1127</th>\n",
       "      <td>Frozen</td>\n",
       "      <td>1.276400e+09</td>\n",
       "      <td>Adventure,Drama,Sport</td>\n",
       "    </tr>\n",
       "    <tr>\n",
       "      <th>2759</th>\n",
       "      <td>Beauty and the Beast (2017)</td>\n",
       "      <td>1.263500e+09</td>\n",
       "      <td>NaN</td>\n",
       "    </tr>\n",
       "    <tr>\n",
       "      <th>3082</th>\n",
       "      <td>Incredibles 2</td>\n",
       "      <td>1.242800e+09</td>\n",
       "      <td>Action,Adventure,Animation</td>\n",
       "    </tr>\n",
       "    <tr>\n",
       "      <th>1128</th>\n",
       "      <td>Iron Man 3</td>\n",
       "      <td>1.214800e+09</td>\n",
       "      <td>Action,Adventure,Sci-Fi</td>\n",
       "    </tr>\n",
       "  </tbody>\n",
       "</table>\n",
       "</div>"
      ],
      "text/plain": [
       "                                            title   total_gross  \\\n",
       "727                         Marvel's The Avengers  1.518900e+09   \n",
       "1875                      Avengers: Age of Ultron  1.405400e+09   \n",
       "3080                                Black Panther  1.347000e+09   \n",
       "328   Harry Potter and the Deathly Hallows Part 2  1.341500e+09   \n",
       "2758                     Star Wars: The Last Jedi  1.332600e+09   \n",
       "3081               Jurassic World: Fallen Kingdom  1.309500e+09   \n",
       "1127                                       Frozen  1.276400e+09   \n",
       "2759                  Beauty and the Beast (2017)  1.263500e+09   \n",
       "3082                                Incredibles 2  1.242800e+09   \n",
       "1128                                   Iron Man 3  1.214800e+09   \n",
       "\n",
       "                          genres  \n",
       "727                          NaN  \n",
       "1875     Action,Adventure,Sci-Fi  \n",
       "3080     Action,Adventure,Sci-Fi  \n",
       "328                          NaN  \n",
       "2758    Action,Adventure,Fantasy  \n",
       "3081     Action,Adventure,Sci-Fi  \n",
       "1127       Adventure,Drama,Sport  \n",
       "2759                         NaN  \n",
       "3082  Action,Adventure,Animation  \n",
       "1128     Action,Adventure,Sci-Fi  "
      ]
     },
     "execution_count": 25,
     "metadata": {},
     "output_type": "execute_result"
    }
   ],
   "source": [
    "top_100_w_genres.head(10)"
   ]
  },
  {
   "cell_type": "code",
   "execution_count": 33,
   "metadata": {},
   "outputs": [
    {
     "data": {
      "text/plain": [
       "(13, 3)"
      ]
     },
     "execution_count": 33,
     "metadata": {},
     "output_type": "execute_result"
    }
   ],
   "source": [
    "name_prob = top_100_w_genres[top_100_w_genres['genres'].isna()]\n",
    "name_prob.head()\n",
    "name_prob.shape"
   ]
  },
  {
   "cell_type": "code",
   "execution_count": 34,
   "metadata": {},
   "outputs": [],
   "source": [
    "import difflib"
   ]
  },
  {
   "cell_type": "code",
   "execution_count": 47,
   "metadata": {},
   "outputs": [
    {
     "name": "stdout",
     "output_type": "stream",
     "text": [
      "['Star Wasr', 'Stupid Wars', 'Star Trek']\n"
     ]
    }
   ],
   "source": [
    "word_list = ['Star Wasr', 'Straw Wall','Star Trek','Stupid Wars']\n",
    "str_we_want = 'Star Wars'\n",
    "matches = difflib.get_close_matches(str_we_want, word_list, n=3, cutoff=0.6)\n",
    "print(matches)"
   ]
  },
  {
   "cell_type": "code",
   "execution_count": 36,
   "metadata": {},
   "outputs": [
    {
     "data": {
      "text/plain": [
       "['The Avengers']"
      ]
     },
     "execution_count": 36,
     "metadata": {},
     "output_type": "execute_result"
    }
   ],
   "source": [
    "difflib.get_close_matches(\"Marvel's The Avengers\", basics['primary_title'], n=1)"
   ]
  },
  {
   "cell_type": "code",
   "execution_count": 48,
   "metadata": {},
   "outputs": [],
   "source": [
    "for i in name_prob.index:\n",
    "    try:\n",
    "        best_match = difflib.get_close_matches(top_100.loc[i, 'title'], basics['primary_title'], n=1)\n",
    "        top_100.loc[i, 'title'] = best_match[0] \n",
    "    except:\n",
    "        top_100.loc[i, 'title'] = top_100.loc[i, 'title']"
   ]
  },
  {
   "cell_type": "code",
   "execution_count": 55,
   "metadata": {},
   "outputs": [
    {
     "data": {
      "text/html": [
       "<div>\n",
       "<style scoped>\n",
       "    .dataframe tbody tr th:only-of-type {\n",
       "        vertical-align: middle;\n",
       "    }\n",
       "\n",
       "    .dataframe tbody tr th {\n",
       "        vertical-align: top;\n",
       "    }\n",
       "\n",
       "    .dataframe thead th {\n",
       "        text-align: right;\n",
       "    }\n",
       "</style>\n",
       "<table border=\"1\" class=\"dataframe\">\n",
       "  <thead>\n",
       "    <tr style=\"text-align: right;\">\n",
       "      <th></th>\n",
       "      <th>title</th>\n",
       "      <th>total_gross</th>\n",
       "    </tr>\n",
       "  </thead>\n",
       "  <tbody>\n",
       "    <tr>\n",
       "      <th>727</th>\n",
       "      <td>The Avengers</td>\n",
       "      <td>1.518900e+09</td>\n",
       "    </tr>\n",
       "    <tr>\n",
       "      <th>1875</th>\n",
       "      <td>Avengers: Age of Ultron</td>\n",
       "      <td>1.405400e+09</td>\n",
       "    </tr>\n",
       "    <tr>\n",
       "      <th>3080</th>\n",
       "      <td>Black Panther</td>\n",
       "      <td>1.347000e+09</td>\n",
       "    </tr>\n",
       "    <tr>\n",
       "      <th>328</th>\n",
       "      <td>Harry Potter and the Deathly Hallows: Part 2</td>\n",
       "      <td>1.341500e+09</td>\n",
       "    </tr>\n",
       "    <tr>\n",
       "      <th>2758</th>\n",
       "      <td>Star Wars: The Last Jedi</td>\n",
       "      <td>1.332600e+09</td>\n",
       "    </tr>\n",
       "    <tr>\n",
       "      <th>3081</th>\n",
       "      <td>Jurassic World: Fallen Kingdom</td>\n",
       "      <td>1.309500e+09</td>\n",
       "    </tr>\n",
       "    <tr>\n",
       "      <th>1127</th>\n",
       "      <td>Frozen</td>\n",
       "      <td>1.276400e+09</td>\n",
       "    </tr>\n",
       "    <tr>\n",
       "      <th>2759</th>\n",
       "      <td>Beauty and the Beast</td>\n",
       "      <td>1.263500e+09</td>\n",
       "    </tr>\n",
       "    <tr>\n",
       "      <th>3082</th>\n",
       "      <td>Incredibles 2</td>\n",
       "      <td>1.242800e+09</td>\n",
       "    </tr>\n",
       "    <tr>\n",
       "      <th>1128</th>\n",
       "      <td>Iron Man 3</td>\n",
       "      <td>1.214800e+09</td>\n",
       "    </tr>\n",
       "  </tbody>\n",
       "</table>\n",
       "</div>"
      ],
      "text/plain": [
       "                                             title   total_gross\n",
       "727                                   The Avengers  1.518900e+09\n",
       "1875                       Avengers: Age of Ultron  1.405400e+09\n",
       "3080                                 Black Panther  1.347000e+09\n",
       "328   Harry Potter and the Deathly Hallows: Part 2  1.341500e+09\n",
       "2758                      Star Wars: The Last Jedi  1.332600e+09\n",
       "3081                Jurassic World: Fallen Kingdom  1.309500e+09\n",
       "1127                                        Frozen  1.276400e+09\n",
       "2759                          Beauty and the Beast  1.263500e+09\n",
       "3082                                 Incredibles 2  1.242800e+09\n",
       "1128                                    Iron Man 3  1.214800e+09"
      ]
     },
     "execution_count": 55,
     "metadata": {},
     "output_type": "execute_result"
    }
   ],
   "source": [
    "top_100.head(10)"
   ]
  },
  {
   "cell_type": "code",
   "execution_count": 56,
   "metadata": {},
   "outputs": [],
   "source": [
    "finished = top_100.join(basics.set_index('primary_title'), how='left', on='title' )[['title', 'total_gross', 'genres']]\n",
    "finished = finished[finished['title'].duplicated() == False]"
   ]
  },
  {
   "cell_type": "code",
   "execution_count": 57,
   "metadata": {},
   "outputs": [
    {
     "data": {
      "text/html": [
       "<div>\n",
       "<style scoped>\n",
       "    .dataframe tbody tr th:only-of-type {\n",
       "        vertical-align: middle;\n",
       "    }\n",
       "\n",
       "    .dataframe tbody tr th {\n",
       "        vertical-align: top;\n",
       "    }\n",
       "\n",
       "    .dataframe thead th {\n",
       "        text-align: right;\n",
       "    }\n",
       "</style>\n",
       "<table border=\"1\" class=\"dataframe\">\n",
       "  <thead>\n",
       "    <tr style=\"text-align: right;\">\n",
       "      <th></th>\n",
       "      <th>title</th>\n",
       "      <th>total_gross</th>\n",
       "      <th>genres</th>\n",
       "    </tr>\n",
       "  </thead>\n",
       "  <tbody>\n",
       "    <tr>\n",
       "      <th>727</th>\n",
       "      <td>The Avengers</td>\n",
       "      <td>1.518900e+09</td>\n",
       "      <td>Action,Adventure,Sci-Fi</td>\n",
       "    </tr>\n",
       "    <tr>\n",
       "      <th>1875</th>\n",
       "      <td>Avengers: Age of Ultron</td>\n",
       "      <td>1.405400e+09</td>\n",
       "      <td>Action,Adventure,Sci-Fi</td>\n",
       "    </tr>\n",
       "    <tr>\n",
       "      <th>3080</th>\n",
       "      <td>Black Panther</td>\n",
       "      <td>1.347000e+09</td>\n",
       "      <td>Action,Adventure,Sci-Fi</td>\n",
       "    </tr>\n",
       "    <tr>\n",
       "      <th>328</th>\n",
       "      <td>Harry Potter and the Deathly Hallows: Part 2</td>\n",
       "      <td>1.341500e+09</td>\n",
       "      <td>Adventure,Drama,Fantasy</td>\n",
       "    </tr>\n",
       "    <tr>\n",
       "      <th>2758</th>\n",
       "      <td>Star Wars: The Last Jedi</td>\n",
       "      <td>1.332600e+09</td>\n",
       "      <td>Action,Adventure,Fantasy</td>\n",
       "    </tr>\n",
       "    <tr>\n",
       "      <th>3081</th>\n",
       "      <td>Jurassic World: Fallen Kingdom</td>\n",
       "      <td>1.309500e+09</td>\n",
       "      <td>Action,Adventure,Sci-Fi</td>\n",
       "    </tr>\n",
       "    <tr>\n",
       "      <th>1127</th>\n",
       "      <td>Frozen</td>\n",
       "      <td>1.276400e+09</td>\n",
       "      <td>Adventure,Drama,Sport</td>\n",
       "    </tr>\n",
       "    <tr>\n",
       "      <th>2759</th>\n",
       "      <td>Beauty and the Beast</td>\n",
       "      <td>1.263500e+09</td>\n",
       "      <td>Drama,Fantasy,Romance</td>\n",
       "    </tr>\n",
       "    <tr>\n",
       "      <th>3082</th>\n",
       "      <td>Incredibles 2</td>\n",
       "      <td>1.242800e+09</td>\n",
       "      <td>Action,Adventure,Animation</td>\n",
       "    </tr>\n",
       "    <tr>\n",
       "      <th>1128</th>\n",
       "      <td>Iron Man 3</td>\n",
       "      <td>1.214800e+09</td>\n",
       "      <td>Action,Adventure,Sci-Fi</td>\n",
       "    </tr>\n",
       "  </tbody>\n",
       "</table>\n",
       "</div>"
      ],
      "text/plain": [
       "                                             title   total_gross  \\\n",
       "727                                   The Avengers  1.518900e+09   \n",
       "1875                       Avengers: Age of Ultron  1.405400e+09   \n",
       "3080                                 Black Panther  1.347000e+09   \n",
       "328   Harry Potter and the Deathly Hallows: Part 2  1.341500e+09   \n",
       "2758                      Star Wars: The Last Jedi  1.332600e+09   \n",
       "3081                Jurassic World: Fallen Kingdom  1.309500e+09   \n",
       "1127                                        Frozen  1.276400e+09   \n",
       "2759                          Beauty and the Beast  1.263500e+09   \n",
       "3082                                 Incredibles 2  1.242800e+09   \n",
       "1128                                    Iron Man 3  1.214800e+09   \n",
       "\n",
       "                          genres  \n",
       "727      Action,Adventure,Sci-Fi  \n",
       "1875     Action,Adventure,Sci-Fi  \n",
       "3080     Action,Adventure,Sci-Fi  \n",
       "328      Adventure,Drama,Fantasy  \n",
       "2758    Action,Adventure,Fantasy  \n",
       "3081     Action,Adventure,Sci-Fi  \n",
       "1127       Adventure,Drama,Sport  \n",
       "2759       Drama,Fantasy,Romance  \n",
       "3082  Action,Adventure,Animation  \n",
       "1128     Action,Adventure,Sci-Fi  "
      ]
     },
     "metadata": {},
     "output_type": "display_data"
    }
   ],
   "source": [
    "display(finished.head(10))"
   ]
  },
  {
   "cell_type": "code",
   "execution_count": 58,
   "metadata": {},
   "outputs": [
    {
     "data": {
      "text/plain": [
       "2"
      ]
     },
     "execution_count": 58,
     "metadata": {},
     "output_type": "execute_result"
    }
   ],
   "source": [
    "finished['genres'].isna().sum()"
   ]
  },
  {
   "cell_type": "code",
   "execution_count": 59,
   "metadata": {},
   "outputs": [
    {
     "data": {
      "text/html": [
       "<div>\n",
       "<style scoped>\n",
       "    .dataframe tbody tr th:only-of-type {\n",
       "        vertical-align: middle;\n",
       "    }\n",
       "\n",
       "    .dataframe tbody tr th {\n",
       "        vertical-align: top;\n",
       "    }\n",
       "\n",
       "    .dataframe thead th {\n",
       "        text-align: right;\n",
       "    }\n",
       "</style>\n",
       "<table border=\"1\" class=\"dataframe\">\n",
       "  <thead>\n",
       "    <tr style=\"text-align: right;\">\n",
       "      <th></th>\n",
       "      <th>title</th>\n",
       "      <th>total_gross</th>\n",
       "      <th>genres</th>\n",
       "    </tr>\n",
       "  </thead>\n",
       "  <tbody>\n",
       "    <tr>\n",
       "      <th>2768</th>\n",
       "      <td>Coco</td>\n",
       "      <td>807100000.0</td>\n",
       "      <td>NaN</td>\n",
       "    </tr>\n",
       "    <tr>\n",
       "      <th>736</th>\n",
       "      <td>MIB 3</td>\n",
       "      <td>624000000.0</td>\n",
       "      <td>NaN</td>\n",
       "    </tr>\n",
       "  </tbody>\n",
       "</table>\n",
       "</div>"
      ],
      "text/plain": [
       "      title  total_gross genres\n",
       "2768   Coco  807100000.0    NaN\n",
       "736   MIB 3  624000000.0    NaN"
      ]
     },
     "execution_count": 59,
     "metadata": {},
     "output_type": "execute_result"
    }
   ],
   "source": [
    "finished[finished['genres'].isna() == True]"
   ]
  },
  {
   "cell_type": "code",
   "execution_count": 60,
   "metadata": {},
   "outputs": [],
   "source": [
    "finished['genres'].fillna('Missing', inplace=True)"
   ]
  },
  {
   "cell_type": "code",
   "execution_count": null,
   "metadata": {},
   "outputs": [],
   "source": []
  }
 ],
 "metadata": {
  "kernelspec": {
   "display_name": "Python (learn-env)",
   "language": "python",
   "name": "learn-env"
  },
  "language_info": {
   "codemirror_mode": {
    "name": "ipython",
    "version": 3
   },
   "file_extension": ".py",
   "mimetype": "text/x-python",
   "name": "python",
   "nbconvert_exporter": "python",
   "pygments_lexer": "ipython3",
   "version": "3.8.5"
  }
 },
 "nbformat": 4,
 "nbformat_minor": 4
}
